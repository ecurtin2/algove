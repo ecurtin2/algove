{
 "cells": [
  {
   "attachments": {},
   "cell_type": "markdown",
   "metadata": {},
   "source": [
    "# Iris Dataset\n",
    "\n",
    "This example shows the intended usage. It allows you to incrementally\n",
    "build up the workflow while you're still figuring out what you need to do. "
   ]
  },
  {
   "cell_type": "code",
   "execution_count": 1,
   "metadata": {},
   "outputs": [
    {
     "name": "stderr",
     "output_type": "stream",
     "text": [
      "INFO:root:Hello, algove!\n"
     ]
    }
   ],
   "source": [
    "from algove import init_logger\n",
    "logger = init_logger()\n",
    "logger.info(\"Hello, algove!\")"
   ]
  },
  {
   "attachments": {},
   "cell_type": "markdown",
   "metadata": {},
   "source": [
    "## Setup"
   ]
  },
  {
   "cell_type": "code",
   "execution_count": 2,
   "metadata": {},
   "outputs": [],
   "source": [
    "from algove import LocalFS, Cache, download, truncated_print\n",
    "\n",
    "fs = LocalFS()\n",
    "cache = Cache(fs, display=truncated_print(10))"
   ]
  },
  {
   "attachments": {},
   "cell_type": "markdown",
   "metadata": {},
   "source": [
    "## Download Data"
   ]
  },
  {
   "cell_type": "code",
   "execution_count": 3,
   "metadata": {},
   "outputs": [
    {
     "name": "stderr",
     "output_type": "stream",
     "text": [
      "INFO:algove.cache:Status.COMPUTING: iris_description\n",
      "INFO:algove.repository:Status.SAVING iris_description -> /app/docs/algove_data/iris_description.txt\n"
     ]
    },
    {
     "name": "stdout",
     "output_type": "stream",
     "text": [
      "###### iris_description ######\n",
      "\n",
      "1. Title: Iris Plants Database\n",
      "\tUpdated Sept 21 by C.Blake - Added discrepency information\n",
      "\n",
      "2. Sources:\n",
      "     (a) Creator: R.A. Fisher\n",
      "     (b) Donor: Michael Marshall (MARSHALL%PLU@io.arc.nasa.gov)\n",
      "     (c) Date: July, 1988\n",
      "\n",
      "3. Past Usage:\n",
      "   - Publications: too many to mention!!!  Here are a few.\n",
      "\n",
      "#### end iris_description ####\n",
      "\n"
     ]
    }
   ],
   "source": [
    "@cache(\"iris_description\")\n",
    "def get_names():\n",
    "    return download(\n",
    "        \"https://archive.ics.uci.edu/ml/machine-learning-databases/iris/iris.names\"\n",
    "    )\n",
    "\n",
    "description = get_names()"
   ]
  },
  {
   "cell_type": "code",
   "execution_count": 4,
   "metadata": {},
   "outputs": [
    {
     "name": "stderr",
     "output_type": "stream",
     "text": [
      "INFO:algove.cache:Status.COMPUTING: iris_data\n",
      "INFO:algove.repository:Status.SAVING iris_data -> /app/docs/algove_data/iris_data.txt\n"
     ]
    },
    {
     "name": "stdout",
     "output_type": "stream",
     "text": [
      "###### iris_data ######\n",
      "\n",
      "5.1,3.5,1.4,0.2,Iris-setosa\n",
      "4.9,3.0,1.4,0.2,Iris-setosa\n",
      "4.7,3.2,1.3,0.2,Iris-setosa\n",
      "4.6,3.1,1.5,0.2,Iris-setosa\n",
      "5.0,3.6,1.4,0.2,Iris-setosa\n",
      "5.4,3.9,1.7,0.4,Iris-setosa\n",
      "4.6,3.4,1.4,0.3,Iris-setosa\n",
      "5.0,3.4,1.5,0.2,Iris-setosa\n",
      "4.4,2.9,1.4,0.2,Iris-setosa\n",
      "4.9,3.1,1.5,0.1,Iris-setosa\n",
      "\n",
      "#### end iris_data ####\n",
      "\n"
     ]
    }
   ],
   "source": [
    "@cache(\"iris_data\")\n",
    "def get_data():\n",
    "    return download(\n",
    "        \"https://archive.ics.uci.edu/ml/machine-learning-databases/iris/iris.data\"\n",
    "    )\n",
    "\n",
    "data = get_data()"
   ]
  },
  {
   "cell_type": "code",
   "execution_count": 5,
   "metadata": {},
   "outputs": [
    {
     "name": "stderr",
     "output_type": "stream",
     "text": [
      "INFO:algove.cache:Status.COMPUTING: parsed_data\n",
      "INFO:algove.repository:Status.SAVING parsed_data -> /app/docs/algove_data/parsed_data.parquet\n"
     ]
    },
    {
     "name": "stdout",
     "output_type": "stream",
     "text": [
      "###### parsed_data ######\n",
      "\n",
      "shape: (150, 5)\n",
      "┌──────────────┬────────────────┬─────────────────┬────────────────┬────────────────┐\n",
      "│ sepal_len_cm ┆ sepal_width_cm ┆ petal_length_cm ┆ petal_width_cm ┆ class          │\n",
      "│ ---          ┆ ---            ┆ ---             ┆ ---            ┆ ---            │\n",
      "│ f64          ┆ f64            ┆ f64             ┆ f64            ┆ str            │\n",
      "╞══════════════╪════════════════╪═════════════════╪════════════════╪════════════════╡\n",
      "│ 5.1          ┆ 3.5            ┆ 1.4             ┆ 0.2            ┆ Iris-setosa    │\n",
      "│ 4.9          ┆ 3.0            ┆ 1.4             ┆ 0.2            ┆ Iris-setosa    │\n",
      "│ 4.7          ┆ 3.2            ┆ 1.3             ┆ 0.2            ┆ Iris-setosa    │\n",
      "│ 4.6          ┆ 3.1            ┆ 1.5             ┆ 0.2            ┆ Iris-setosa    │\n",
      "\n",
      "#### end parsed_data ####\n",
      "\n"
     ]
    }
   ],
   "source": [
    "from io import StringIO\n",
    "import polars as pl\n",
    "\n",
    "@cache(\"parsed_data\")\n",
    "def parse_data(data: str) -> pl.DataFrame:\n",
    "    # TODO: it shouldn't be necessary here to read string into memory\n",
    "    f = StringIO(data)\n",
    "    df = pl.read_csv(f, has_header=False)\n",
    "    df.columns = [\n",
    "        \"sepal_len_cm\",\n",
    "        \"sepal_width_cm\",\n",
    "        \"petal_length_cm\",\n",
    "        \"petal_width_cm\",\n",
    "        \"class\",\n",
    "    ]\n",
    "    return df\n",
    "\n",
    "parsed = parse_data(data)"
   ]
  },
  {
   "attachments": {},
   "cell_type": "markdown",
   "metadata": {},
   "source": [
    "## Prepare training set\n",
    "\n"
   ]
  },
  {
   "cell_type": "code",
   "execution_count": 6,
   "metadata": {},
   "outputs": [
    {
     "name": "stderr",
     "output_type": "stream",
     "text": [
      "INFO:algove.cache:Status.COMPUTING: train_set\n",
      "INFO:algove.repository:Status.SAVING train_set -> /app/docs/algove_data/train_set.parquet\n"
     ]
    },
    {
     "name": "stdout",
     "output_type": "stream",
     "text": [
      "###### train_set ######\n",
      "\n",
      "shape: (150, 6)\n",
      "┌──────────────┬────────────────┬────────────────┬────────────────┬────────────────┬───────────────┐\n",
      "│ sepal_len_cm ┆ sepal_width_cm ┆ petal_length_c ┆ petal_width_cm ┆ class          ┆ class_encoded │\n",
      "│ ---          ┆ ---            ┆ m              ┆ ---            ┆ ---            ┆ ---           │\n",
      "│ f64          ┆ f64            ┆ ---            ┆ f64            ┆ str            ┆ i64           │\n",
      "│              ┆                ┆ f64            ┆                ┆                ┆               │\n",
      "╞══════════════╪════════════════╪════════════════╪════════════════╪════════════════╪═══════════════╡\n",
      "│ 5.1          ┆ 3.5            ┆ 1.4            ┆ 0.2            ┆ Iris-setosa    ┆ 2             │\n",
      "│ 4.9          ┆ 3.0            ┆ 1.4            ┆ 0.2            ┆ Iris-setosa    ┆ 2             │\n",
      "│ 4.7          ┆ 3.2            ┆ 1.3            ┆ 0.2            ┆ Iris-setosa    ┆ 2             │\n",
      "\n",
      "#### end train_set ####\n",
      "\n"
     ]
    }
   ],
   "source": [
    "from algove.transformers import FitLabelEncoder\n",
    "\n",
    "@cache(\"train_set\")\n",
    "def make_train(df: pl.DataFrame) -> pl.DataFrame:\n",
    "    encoder = FitLabelEncoder(column=\"class\", output_col=\"class_encoded\").fit(df)\n",
    "    return encoder.transform(df)\n",
    "\n",
    "train_set = make_train(parsed)"
   ]
  },
  {
   "attachments": {},
   "cell_type": "markdown",
   "metadata": {},
   "source": [
    "## Fit and Run model"
   ]
  },
  {
   "cell_type": "code",
   "execution_count": 7,
   "metadata": {},
   "outputs": [
    {
     "name": "stderr",
     "output_type": "stream",
     "text": [
      "INFO:algove.cache:Status.COMPUTING: predictions\n",
      "INFO:algove.repository:Status.SAVING predictions -> /app/docs/algove_data/predictions.parquet\n"
     ]
    },
    {
     "name": "stdout",
     "output_type": "stream",
     "text": [
      "###### predictions ######\n",
      "\n",
      "shape: (150, 7)\n",
      "┌────────────┬────────────┬────────────┬───────────────┬──────────────┬──────────────┬─────────────┐\n",
      "│ sepal_len_ ┆ sepal_widt ┆ petal_leng ┆ petal_width_c ┆ class        ┆ class_encode ┆ predictions │\n",
      "│ cm         ┆ h_cm       ┆ th_cm      ┆ m             ┆ ---          ┆ d            ┆ ---         │\n",
      "│ ---        ┆ ---        ┆ ---        ┆ ---           ┆ str          ┆ ---          ┆ f64         │\n",
      "│ f64        ┆ f64        ┆ f64        ┆ f64           ┆              ┆ i64          ┆             │\n",
      "╞════════════╪════════════╪════════════╪═══════════════╪══════════════╪══════════════╪═════════════╡\n",
      "│ 5.1        ┆ 3.5        ┆ 1.4        ┆ 0.2           ┆ Iris-setosa  ┆ 2            ┆ 2.0         │\n",
      "│ 4.9        ┆ 3.0        ┆ 1.4        ┆ 0.2           ┆ Iris-setosa  ┆ 2            ┆ 2.0         │\n",
      "│ 4.7        ┆ 3.2        ┆ 1.3        ┆ 0.2           ┆ Iris-setosa  ┆ 2            ┆ 2.0         │\n",
      "\n",
      "#### end predictions ####\n",
      "\n"
     ]
    }
   ],
   "source": [
    "from algove import Pipeline\n",
    "from algove.transformers import NumpyForcer\n",
    "from sklearn.linear_model import LogisticRegression\n",
    "\n",
    "\n",
    "@cache(\"predictions\")\n",
    "def make_predictions(df: pl.DataFrame) -> pl.DataFrame:\n",
    "    forcer = NumpyForcer(\n",
    "        [\"sepal_len_cm\", \"sepal_width_cm\", \"petal_length_cm\", \"petal_width_cm\"],\n",
    "        y_col=\"class_encoded\",\n",
    "    )\n",
    "    data = forcer.transform(df)\n",
    "    model = LogisticRegression()\n",
    "    model.fit(data.X, data.y)\n",
    "    preds = model.predict(data.X)\n",
    "    pred_series = pl.Series(\"predictions\", preds)\n",
    "    return df.with_columns(pred_series)\n",
    "\n",
    "\n",
    "preds = make_predictions(train_set)"
   ]
  },
  {
   "attachments": {},
   "cell_type": "markdown",
   "metadata": {},
   "source": [
    "## Assembling the pipeline"
   ]
  },
  {
   "cell_type": "code",
   "execution_count": 8,
   "metadata": {},
   "outputs": [
    {
     "name": "stderr",
     "output_type": "stream",
     "text": [
      "INFO:algove.cache:Status.CACHE_HIT: iris_description\n",
      "INFO:algove.repository:Status.LOADING: iris_description <-- /app/docs/algove_data/iris_description.txt\n",
      "INFO:algove.cache:Status.CACHE_HIT: iris_data\n",
      "INFO:algove.repository:Status.LOADING: iris_data <-- /app/docs/algove_data/iris_data.txt\n",
      "INFO:algove.cache:Status.CACHE_HIT: parsed_data\n",
      "INFO:algove.repository:Status.LOADING: parsed_data <-- /app/docs/algove_data/parsed_data.parquet\n",
      "INFO:algove.cache:Status.CACHE_HIT: train_set\n",
      "INFO:algove.repository:Status.LOADING: train_set <-- /app/docs/algove_data/train_set.parquet\n",
      "INFO:algove.cache:Status.CACHE_HIT: predictions\n",
      "INFO:algove.repository:Status.LOADING: predictions <-- /app/docs/algove_data/predictions.parquet\n"
     ]
    },
    {
     "name": "stdout",
     "output_type": "stream",
     "text": [
      "###### iris_description ######\n",
      "\n",
      "1. Title: Iris Plants Database\n",
      "\tUpdated Sept 21 by C.Blake - Added discrepency information\n",
      "\n",
      "2. Sources:\n",
      "     (a) Creator: R.A. Fisher\n",
      "     (b) Donor: Michael Marshall (MARSHALL%PLU@io.arc.nasa.gov)\n",
      "     (c) Date: July, 1988\n",
      "\n",
      "3. Past Usage:\n",
      "   - Publications: too many to mention!!!  Here are a few.\n",
      "\n",
      "#### end iris_description ####\n",
      "\n",
      "###### iris_data ######\n",
      "\n",
      "5.1,3.5,1.4,0.2,Iris-setosa\n",
      "4.9,3.0,1.4,0.2,Iris-setosa\n",
      "4.7,3.2,1.3,0.2,Iris-setosa\n",
      "4.6,3.1,1.5,0.2,Iris-setosa\n",
      "5.0,3.6,1.4,0.2,Iris-setosa\n",
      "5.4,3.9,1.7,0.4,Iris-setosa\n",
      "4.6,3.4,1.4,0.3,Iris-setosa\n",
      "5.0,3.4,1.5,0.2,Iris-setosa\n",
      "4.4,2.9,1.4,0.2,Iris-setosa\n",
      "4.9,3.1,1.5,0.1,Iris-setosa\n",
      "\n",
      "#### end iris_data ####\n",
      "\n",
      "###### parsed_data ######\n",
      "\n",
      "shape: (150, 5)\n",
      "┌──────────────┬────────────────┬─────────────────┬────────────────┬────────────────┐\n",
      "│ sepal_len_cm ┆ sepal_width_cm ┆ petal_length_cm ┆ petal_width_cm ┆ class          │\n",
      "│ ---          ┆ ---            ┆ ---             ┆ ---            ┆ ---            │\n",
      "│ f64          ┆ f64            ┆ f64             ┆ f64            ┆ str            │\n",
      "╞══════════════╪════════════════╪═════════════════╪════════════════╪════════════════╡\n",
      "│ 5.1          ┆ 3.5            ┆ 1.4             ┆ 0.2            ┆ Iris-setosa    │\n",
      "│ 4.9          ┆ 3.0            ┆ 1.4             ┆ 0.2            ┆ Iris-setosa    │\n",
      "│ 4.7          ┆ 3.2            ┆ 1.3             ┆ 0.2            ┆ Iris-setosa    │\n",
      "│ 4.6          ┆ 3.1            ┆ 1.5             ┆ 0.2            ┆ Iris-setosa    │\n",
      "\n",
      "#### end parsed_data ####\n",
      "\n",
      "###### train_set ######\n",
      "\n",
      "shape: (150, 6)\n",
      "┌──────────────┬────────────────┬────────────────┬────────────────┬────────────────┬───────────────┐\n",
      "│ sepal_len_cm ┆ sepal_width_cm ┆ petal_length_c ┆ petal_width_cm ┆ class          ┆ class_encoded │\n",
      "│ ---          ┆ ---            ┆ m              ┆ ---            ┆ ---            ┆ ---           │\n",
      "│ f64          ┆ f64            ┆ ---            ┆ f64            ┆ str            ┆ i64           │\n",
      "│              ┆                ┆ f64            ┆                ┆                ┆               │\n",
      "╞══════════════╪════════════════╪════════════════╪════════════════╪════════════════╪═══════════════╡\n",
      "│ 5.1          ┆ 3.5            ┆ 1.4            ┆ 0.2            ┆ Iris-setosa    ┆ 2             │\n",
      "│ 4.9          ┆ 3.0            ┆ 1.4            ┆ 0.2            ┆ Iris-setosa    ┆ 2             │\n",
      "│ 4.7          ┆ 3.2            ┆ 1.3            ┆ 0.2            ┆ Iris-setosa    ┆ 2             │\n",
      "\n",
      "#### end train_set ####\n",
      "\n",
      "###### predictions ######\n",
      "\n",
      "shape: (150, 7)\n",
      "┌────────────┬────────────┬────────────┬───────────────┬──────────────┬──────────────┬─────────────┐\n",
      "│ sepal_len_ ┆ sepal_widt ┆ petal_leng ┆ petal_width_c ┆ class        ┆ class_encode ┆ predictions │\n",
      "│ cm         ┆ h_cm       ┆ th_cm      ┆ m             ┆ ---          ┆ d            ┆ ---         │\n",
      "│ ---        ┆ ---        ┆ ---        ┆ ---           ┆ str          ┆ ---          ┆ f64         │\n",
      "│ f64        ┆ f64        ┆ f64        ┆ f64           ┆              ┆ i64          ┆             │\n",
      "╞════════════╪════════════╪════════════╪═══════════════╪══════════════╪══════════════╪═════════════╡\n",
      "│ 5.1        ┆ 3.5        ┆ 1.4        ┆ 0.2           ┆ Iris-setosa  ┆ 2            ┆ 2.0         │\n",
      "│ 4.9        ┆ 3.0        ┆ 1.4        ┆ 0.2           ┆ Iris-setosa  ┆ 2            ┆ 2.0         │\n",
      "│ 4.7        ┆ 3.2        ┆ 1.3        ┆ 0.2           ┆ Iris-setosa  ┆ 2            ┆ 2.0         │\n",
      "\n",
      "#### end predictions ####\n",
      "\n"
     ]
    }
   ],
   "source": [
    "pipeline = Pipeline(\"iris-demo\") | get_names | get_data | parse_data | make_train | make_predictions\n",
    "pipeline_preds = pipeline()"
   ]
  },
  {
   "cell_type": "code",
   "execution_count": 9,
   "metadata": {},
   "outputs": [
    {
     "name": "stdout",
     "output_type": "stream",
     "text": [
      "shape: (150, 7)\n",
      "┌────────────┬────────────┬────────────┬───────────────┬──────────────┬──────────────┬─────────────┐\n",
      "│ sepal_len_ ┆ sepal_widt ┆ petal_leng ┆ petal_width_c ┆ class        ┆ class_encode ┆ predictions │\n",
      "│ cm         ┆ h_cm       ┆ th_cm      ┆ m             ┆ ---          ┆ d            ┆ ---         │\n",
      "│ ---        ┆ ---        ┆ ---        ┆ ---           ┆ str          ┆ ---          ┆ f64         │\n",
      "│ f64        ┆ f64        ┆ f64        ┆ f64           ┆              ┆ i64          ┆             │\n",
      "╞════════════╪════════════╪════════════╪═══════════════╪══════════════╪══════════════╪═════════════╡\n",
      "│ 5.1        ┆ 3.5        ┆ 1.4        ┆ 0.2           ┆ Iris-setosa  ┆ 2            ┆ 2.0         │\n",
      "│ 4.9        ┆ 3.0        ┆ 1.4        ┆ 0.2           ┆ Iris-setosa  ┆ 2            ┆ 2.0         │\n",
      "│ 4.7        ┆ 3.2        ┆ 1.3        ┆ 0.2           ┆ Iris-setosa  ┆ 2            ┆ 2.0         │\n",
      "│ 4.6        ┆ 3.1        ┆ 1.5        ┆ 0.2           ┆ Iris-setosa  ┆ 2            ┆ 2.0         │\n",
      "│ ...        ┆ ...        ┆ ...        ┆ ...           ┆ ...          ┆ ...          ┆ ...         │\n",
      "│ 6.3        ┆ 2.5        ┆ 5.0        ┆ 1.9           ┆ Iris-virgini ┆ 1            ┆ 1.0         │\n",
      "│            ┆            ┆            ┆               ┆ ca           ┆              ┆             │\n",
      "│ 6.5        ┆ 3.0        ┆ 5.2        ┆ 2.0           ┆ Iris-virgini ┆ 1            ┆ 1.0         │\n",
      "│            ┆            ┆            ┆               ┆ ca           ┆              ┆             │\n",
      "│ 6.2        ┆ 3.4        ┆ 5.4        ┆ 2.3           ┆ Iris-virgini ┆ 1            ┆ 1.0         │\n",
      "│            ┆            ┆            ┆               ┆ ca           ┆              ┆             │\n",
      "│ 5.9        ┆ 3.0        ┆ 5.1        ┆ 1.8           ┆ Iris-virgini ┆ 1            ┆ 1.0         │\n",
      "│            ┆            ┆            ┆               ┆ ca           ┆              ┆             │\n",
      "└────────────┴────────────┴────────────┴───────────────┴──────────────┴──────────────┴─────────────┘\n"
     ]
    }
   ],
   "source": [
    "print(preds)"
   ]
  }
 ],
 "metadata": {
  "kernelspec": {
   "display_name": "Python 3",
   "language": "python",
   "name": "python3"
  },
  "language_info": {
   "codemirror_mode": {
    "name": "ipython",
    "version": 3
   },
   "file_extension": ".py",
   "mimetype": "text/x-python",
   "name": "python",
   "nbconvert_exporter": "python",
   "pygments_lexer": "ipython3",
   "version": "3.11.2"
  },
  "orig_nbformat": 4,
  "vscode": {
   "interpreter": {
    "hash": "949777d72b0d2535278d3dc13498b2535136f6dfe0678499012e853ee9abcab1"
   }
  }
 },
 "nbformat": 4,
 "nbformat_minor": 2
}
